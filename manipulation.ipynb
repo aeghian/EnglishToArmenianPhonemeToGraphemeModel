{
 "cells": [
  {
   "cell_type": "code",
   "execution_count": 6,
   "metadata": {},
   "outputs": [],
   "source": [
    "import pandas as pd\n",
    "main_data = pd.read_csv('full-text-list.csv')\n",
    "main_data['index'] = range(1, len(main_data) + 1)"
   ]
  },
  {
   "cell_type": "code",
   "execution_count": 8,
   "metadata": {},
   "outputs": [],
   "source": [
    "def RemoveV(row):\n",
    "    if row['index']%174000 == 0: print(row['index']/17400)\n",
    "    armenian_graphemes_list = row['armenian_graphemes'].replace(\"'\",\"\").strip(\"][\").split(', ')\n",
    "    if armenian_graphemes_list[0] == 'ու':\n",
    "        proper_english_possibility = row['english_possibility'][1:]\n",
    "    else:\n",
    "        proper_english_possibility = row['english_possibility']\n",
    "    return proper_english_possibility\n",
    "\n",
    "def CreateTrainingData(row):\n",
    "    if row['index']%174000 == 0: print(row['index']/17400)\n",
    "    cleaned_armenian_grapheme = row['armenian_graphemes'].replace(\"'\",\"\").strip(\"][\").replace(\",\",\" \")\n",
    "    training_data = row['cleaned_words'] + ' ' + cleaned_armenian_grapheme\n",
    "    return training_data"
   ]
  },
  {
   "cell_type": "code",
   "execution_count": 9,
   "metadata": {},
   "outputs": [
    {
     "name": "stdout",
     "output_type": "stream",
     "text": [
      "10.0\n",
      "20.0\n",
      "30.0\n",
      "40.0\n",
      "50.0\n",
      "60.0\n",
      "70.0\n",
      "80.0\n",
      "90.0\n",
      "100.0\n",
      "10.0\n",
      "20.0\n",
      "30.0\n",
      "40.0\n",
      "50.0\n",
      "60.0\n",
      "70.0\n",
      "80.0\n",
      "90.0\n",
      "100.0\n"
     ]
    }
   ],
   "source": [
    "main_data['cleaned_words'] = main_data.apply(lambda row: RemoveV(row), axis=1)\n",
    "main_data['training_data'] = main_data.apply(lambda row: CreateTrainingData(row), axis=1)"
   ]
  },
  {
   "cell_type": "code",
   "execution_count": 12,
   "metadata": {},
   "outputs": [],
   "source": [
    "main_data.to_csv('training_data.csv', index=False)"
   ]
  },
  {
   "cell_type": "code",
   "execution_count": 13,
   "metadata": {},
   "outputs": [],
   "source": [
    "main_data['training_data'].to_csv('cmu.dict', index=False)"
   ]
  },
  {
   "cell_type": "code",
   "execution_count": null,
   "metadata": {},
   "outputs": [],
   "source": []
  }
 ],
 "metadata": {
  "interpreter": {
   "hash": "e7370f93d1d0cde622a1f8e1c04877d8463912d04d973331ad4851f04de6915a"
  },
  "kernelspec": {
   "display_name": "Python 3.9.2 64-bit",
   "name": "python3"
  },
  "language_info": {
   "codemirror_mode": {
    "name": "ipython",
    "version": 3
   },
   "file_extension": ".py",
   "mimetype": "text/x-python",
   "name": "python",
   "nbconvert_exporter": "python",
   "pygments_lexer": "ipython3",
   "version": "3.9.13"
  },
  "orig_nbformat": 4
 },
 "nbformat": 4,
 "nbformat_minor": 2
}
